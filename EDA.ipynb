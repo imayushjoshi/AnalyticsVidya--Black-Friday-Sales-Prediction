{
 "cells": [
  {
   "cell_type": "code",
   "execution_count": 1,
   "metadata": {},
   "outputs": [],
   "source": [
    "import numpy as np\n",
    "import pandas as pd\n",
    "import matplotlib.pyplot as plt"
   ]
  },
  {
   "cell_type": "code",
   "execution_count": 2,
   "metadata": {},
   "outputs": [],
   "source": [
    "data=pd.read_csv(\"train.csv\")"
   ]
  },
  {
   "cell_type": "code",
   "execution_count": 3,
   "metadata": {},
   "outputs": [
    {
     "data": {
      "text/html": [
       "<div>\n",
       "<style scoped>\n",
       "    .dataframe tbody tr th:only-of-type {\n",
       "        vertical-align: middle;\n",
       "    }\n",
       "\n",
       "    .dataframe tbody tr th {\n",
       "        vertical-align: top;\n",
       "    }\n",
       "\n",
       "    .dataframe thead th {\n",
       "        text-align: right;\n",
       "    }\n",
       "</style>\n",
       "<table border=\"1\" class=\"dataframe\">\n",
       "  <thead>\n",
       "    <tr style=\"text-align: right;\">\n",
       "      <th></th>\n",
       "      <th>User_ID</th>\n",
       "      <th>Product_ID</th>\n",
       "      <th>Gender</th>\n",
       "      <th>Age</th>\n",
       "      <th>Occupation</th>\n",
       "      <th>City_Category</th>\n",
       "      <th>Stay_In_Current_City_Years</th>\n",
       "      <th>Marital_Status</th>\n",
       "      <th>Product_Category_1</th>\n",
       "      <th>Product_Category_2</th>\n",
       "      <th>Product_Category_3</th>\n",
       "      <th>Purchase</th>\n",
       "    </tr>\n",
       "  </thead>\n",
       "  <tbody>\n",
       "    <tr>\n",
       "      <th>0</th>\n",
       "      <td>1000001</td>\n",
       "      <td>P00069042</td>\n",
       "      <td>F</td>\n",
       "      <td>0-17</td>\n",
       "      <td>10</td>\n",
       "      <td>A</td>\n",
       "      <td>2</td>\n",
       "      <td>0</td>\n",
       "      <td>3</td>\n",
       "      <td>NaN</td>\n",
       "      <td>NaN</td>\n",
       "      <td>8370</td>\n",
       "    </tr>\n",
       "    <tr>\n",
       "      <th>1</th>\n",
       "      <td>1000001</td>\n",
       "      <td>P00248942</td>\n",
       "      <td>F</td>\n",
       "      <td>0-17</td>\n",
       "      <td>10</td>\n",
       "      <td>A</td>\n",
       "      <td>2</td>\n",
       "      <td>0</td>\n",
       "      <td>1</td>\n",
       "      <td>6.0</td>\n",
       "      <td>14.0</td>\n",
       "      <td>15200</td>\n",
       "    </tr>\n",
       "    <tr>\n",
       "      <th>2</th>\n",
       "      <td>1000001</td>\n",
       "      <td>P00087842</td>\n",
       "      <td>F</td>\n",
       "      <td>0-17</td>\n",
       "      <td>10</td>\n",
       "      <td>A</td>\n",
       "      <td>2</td>\n",
       "      <td>0</td>\n",
       "      <td>12</td>\n",
       "      <td>NaN</td>\n",
       "      <td>NaN</td>\n",
       "      <td>1422</td>\n",
       "    </tr>\n",
       "    <tr>\n",
       "      <th>3</th>\n",
       "      <td>1000001</td>\n",
       "      <td>P00085442</td>\n",
       "      <td>F</td>\n",
       "      <td>0-17</td>\n",
       "      <td>10</td>\n",
       "      <td>A</td>\n",
       "      <td>2</td>\n",
       "      <td>0</td>\n",
       "      <td>12</td>\n",
       "      <td>14.0</td>\n",
       "      <td>NaN</td>\n",
       "      <td>1057</td>\n",
       "    </tr>\n",
       "    <tr>\n",
       "      <th>4</th>\n",
       "      <td>1000002</td>\n",
       "      <td>P00285442</td>\n",
       "      <td>M</td>\n",
       "      <td>55+</td>\n",
       "      <td>16</td>\n",
       "      <td>C</td>\n",
       "      <td>4+</td>\n",
       "      <td>0</td>\n",
       "      <td>8</td>\n",
       "      <td>NaN</td>\n",
       "      <td>NaN</td>\n",
       "      <td>7969</td>\n",
       "    </tr>\n",
       "  </tbody>\n",
       "</table>\n",
       "</div>"
      ],
      "text/plain": [
       "   User_ID Product_ID Gender   Age  Occupation City_Category  \\\n",
       "0  1000001  P00069042      F  0-17          10             A   \n",
       "1  1000001  P00248942      F  0-17          10             A   \n",
       "2  1000001  P00087842      F  0-17          10             A   \n",
       "3  1000001  P00085442      F  0-17          10             A   \n",
       "4  1000002  P00285442      M   55+          16             C   \n",
       "\n",
       "  Stay_In_Current_City_Years  Marital_Status  Product_Category_1  \\\n",
       "0                          2               0                   3   \n",
       "1                          2               0                   1   \n",
       "2                          2               0                  12   \n",
       "3                          2               0                  12   \n",
       "4                         4+               0                   8   \n",
       "\n",
       "   Product_Category_2  Product_Category_3  Purchase  \n",
       "0                 NaN                 NaN      8370  \n",
       "1                 6.0                14.0     15200  \n",
       "2                 NaN                 NaN      1422  \n",
       "3                14.0                 NaN      1057  \n",
       "4                 NaN                 NaN      7969  "
      ]
     },
     "execution_count": 3,
     "metadata": {},
     "output_type": "execute_result"
    }
   ],
   "source": [
    "data.head()"
   ]
  },
  {
   "cell_type": "code",
   "execution_count": 4,
   "metadata": {},
   "outputs": [
    {
     "data": {
      "text/plain": [
       "3631"
      ]
     },
     "execution_count": 4,
     "metadata": {},
     "output_type": "execute_result"
    }
   ],
   "source": [
    "data['Product_ID'].nunique()"
   ]
  },
  {
   "cell_type": "code",
   "execution_count": 5,
   "metadata": {},
   "outputs": [
    {
     "data": {
      "text/plain": [
       "(550068, 12)"
      ]
     },
     "execution_count": 5,
     "metadata": {},
     "output_type": "execute_result"
    }
   ],
   "source": [
    "data.shape"
   ]
  },
  {
   "cell_type": "code",
   "execution_count": 6,
   "metadata": {},
   "outputs": [
    {
     "data": {
      "text/plain": [
       "5891"
      ]
     },
     "execution_count": 6,
     "metadata": {},
     "output_type": "execute_result"
    }
   ],
   "source": [
    "data['User_ID'].nunique()"
   ]
  },
  {
   "cell_type": "code",
   "execution_count": 7,
   "metadata": {},
   "outputs": [
    {
     "data": {
      "text/plain": [
       "<AxesSubplot:>"
      ]
     },
     "execution_count": 7,
     "metadata": {},
     "output_type": "execute_result"
    },
    {
     "data": {
      "image/png": "[encoded data removed]",
      "text/plain": [
       "<Figure size 432x288 with 1 Axes>"
      ]
     },
     "metadata": {
      "needs_background": "light"
     },
     "output_type": "display_data"
    }
   ],
   "source": [
    "data[data.Product_ID=='P00069042'].Purchase.hist()"
   ]
  },
  {
   "cell_type": "markdown",
   "metadata": {},
   "source": [
    "# Feature Analysis"
   ]
  },
  {
   "cell_type": "markdown",
   "metadata": {},
   "source": [
    "## 1. Gender"
   ]
  },
  {
   "cell_type": "code",
   "execution_count": 8,
   "metadata": {},
   "outputs": [
    {
     "data": {
      "text/html": [
       "<div>\n",
       "<style scoped>\n",
       "    .dataframe tbody tr th:only-of-type {\n",
       "        vertical-align: middle;\n",
       "    }\n",
       "\n",
       "    .dataframe tbody tr th {\n",
       "        vertical-align: top;\n",
       "    }\n",
       "\n",
       "    .dataframe thead th {\n",
       "        text-align: right;\n",
       "    }\n",
       "</style>\n",
       "<table border=\"1\" class=\"dataframe\">\n",
       "  <thead>\n",
       "    <tr style=\"text-align: right;\">\n",
       "      <th></th>\n",
       "      <th>User_ID</th>\n",
       "      <th>Purchase</th>\n",
       "    </tr>\n",
       "    <tr>\n",
       "      <th>Gender</th>\n",
       "      <th></th>\n",
       "      <th></th>\n",
       "    </tr>\n",
       "  </thead>\n",
       "  <tbody>\n",
       "    <tr>\n",
       "      <th>F</th>\n",
       "      <td>135809</td>\n",
       "      <td>8734.565765</td>\n",
       "    </tr>\n",
       "    <tr>\n",
       "      <th>M</th>\n",
       "      <td>414259</td>\n",
       "      <td>9437.526040</td>\n",
       "    </tr>\n",
       "  </tbody>\n",
       "</table>\n",
       "</div>"
      ],
      "text/plain": [
       "        User_ID     Purchase\n",
       "Gender                      \n",
       "F        135809  8734.565765\n",
       "M        414259  9437.526040"
      ]
     },
     "execution_count": 8,
     "metadata": {},
     "output_type": "execute_result"
    }
   ],
   "source": [
    "data.groupby(\"Gender\").agg({\"User_ID\":'count','Purchase':'mean'})"
   ]
  },
  {
   "cell_type": "code",
   "execution_count": 9,
   "metadata": {},
   "outputs": [
    {
     "data": {
      "image/png": "[encoded data removed]",
      "text/plain": [
       "<Figure size 432x288 with 1 Axes>"
      ]
     },
     "metadata": {
      "needs_background": "light"
     },
     "output_type": "display_data"
    }
   ],
   "source": [
    "female_dist=data[data.Gender=='F'].Purchase.hist()"
   ]
  },
  {
   "cell_type": "code",
   "execution_count": 10,
   "metadata": {},
   "outputs": [
    {
     "data": {
      "image/png": "[encoded data removed]",
      "text/plain": [
       "<Figure size 432x288 with 1 Axes>"
      ]
     },
     "metadata": {
      "needs_background": "light"
     },
     "output_type": "display_data"
    }
   ],
   "source": [
    "male_dist=data[data.Gender=='M'].Purchase.hist()"
   ]
  },
  {
   "cell_type": "markdown",
   "metadata": {},
   "source": [
    "## 2. Age"
   ]
  },
  {
   "cell_type": "code",
   "execution_count": 11,
   "metadata": {},
   "outputs": [
    {
     "data": {
      "text/html": [
       "<div>\n",
       "<style scoped>\n",
       "    .dataframe tbody tr th:only-of-type {\n",
       "        vertical-align: middle;\n",
       "    }\n",
       "\n",
       "    .dataframe tbody tr th {\n",
       "        vertical-align: top;\n",
       "    }\n",
       "\n",
       "    .dataframe thead th {\n",
       "        text-align: right;\n",
       "    }\n",
       "</style>\n",
       "<table border=\"1\" class=\"dataframe\">\n",
       "  <thead>\n",
       "    <tr style=\"text-align: right;\">\n",
       "      <th></th>\n",
       "      <th>User_ID</th>\n",
       "      <th>Purchase</th>\n",
       "    </tr>\n",
       "    <tr>\n",
       "      <th>Age</th>\n",
       "      <th></th>\n",
       "      <th></th>\n",
       "    </tr>\n",
       "  </thead>\n",
       "  <tbody>\n",
       "    <tr>\n",
       "      <th>0-17</th>\n",
       "      <td>15102</td>\n",
       "      <td>8933.464640</td>\n",
       "    </tr>\n",
       "    <tr>\n",
       "      <th>18-25</th>\n",
       "      <td>99660</td>\n",
       "      <td>9169.663606</td>\n",
       "    </tr>\n",
       "    <tr>\n",
       "      <th>26-35</th>\n",
       "      <td>219587</td>\n",
       "      <td>9252.690633</td>\n",
       "    </tr>\n",
       "    <tr>\n",
       "      <th>36-45</th>\n",
       "      <td>110013</td>\n",
       "      <td>9331.350695</td>\n",
       "    </tr>\n",
       "    <tr>\n",
       "      <th>46-50</th>\n",
       "      <td>45701</td>\n",
       "      <td>9208.625697</td>\n",
       "    </tr>\n",
       "    <tr>\n",
       "      <th>51-55</th>\n",
       "      <td>38501</td>\n",
       "      <td>9534.808031</td>\n",
       "    </tr>\n",
       "    <tr>\n",
       "      <th>55+</th>\n",
       "      <td>21504</td>\n",
       "      <td>9336.280459</td>\n",
       "    </tr>\n",
       "  </tbody>\n",
       "</table>\n",
       "</div>"
      ],
      "text/plain": [
       "       User_ID     Purchase\n",
       "Age                        \n",
       "0-17     15102  8933.464640\n",
       "18-25    99660  9169.663606\n",
       "26-35   219587  9252.690633\n",
       "36-45   110013  9331.350695\n",
       "46-50    45701  9208.625697\n",
       "51-55    38501  9534.808031\n",
       "55+      21504  9336.280459"
      ]
     },
     "execution_count": 11,
     "metadata": {},
     "output_type": "execute_result"
    }
   ],
   "source": [
    "data.groupby(\"Age\").agg({\"User_ID\":'count','Purchase':'mean'})"
   ]
  },
  {
   "cell_type": "markdown",
   "metadata": {},
   "source": [
    "## 3. Occupation"
   ]
  },
  {
   "cell_type": "code",
   "execution_count": 12,
   "metadata": {},
   "outputs": [
    {
     "data": {
      "text/html": [
       "<div>\n",
       "<style scoped>\n",
       "    .dataframe tbody tr th:only-of-type {\n",
       "        vertical-align: middle;\n",
       "    }\n",
       "\n",
       "    .dataframe tbody tr th {\n",
       "        vertical-align: top;\n",
       "    }\n",
       "\n",
       "    .dataframe thead th {\n",
       "        text-align: right;\n",
       "    }\n",
       "</style>\n",
       "<table border=\"1\" class=\"dataframe\">\n",
       "  <thead>\n",
       "    <tr style=\"text-align: right;\">\n",
       "      <th></th>\n",
       "      <th>User_ID</th>\n",
       "      <th>Purchase</th>\n",
       "    </tr>\n",
       "    <tr>\n",
       "      <th>Occupation</th>\n",
       "      <th></th>\n",
       "      <th></th>\n",
       "    </tr>\n",
       "  </thead>\n",
       "  <tbody>\n",
       "    <tr>\n",
       "      <th>0</th>\n",
       "      <td>69638</td>\n",
       "      <td>9124.428588</td>\n",
       "    </tr>\n",
       "    <tr>\n",
       "      <th>1</th>\n",
       "      <td>47426</td>\n",
       "      <td>8953.193270</td>\n",
       "    </tr>\n",
       "    <tr>\n",
       "      <th>2</th>\n",
       "      <td>26588</td>\n",
       "      <td>8952.481683</td>\n",
       "    </tr>\n",
       "    <tr>\n",
       "      <th>3</th>\n",
       "      <td>17650</td>\n",
       "      <td>9178.593088</td>\n",
       "    </tr>\n",
       "    <tr>\n",
       "      <th>4</th>\n",
       "      <td>72308</td>\n",
       "      <td>9213.980251</td>\n",
       "    </tr>\n",
       "    <tr>\n",
       "      <th>5</th>\n",
       "      <td>12177</td>\n",
       "      <td>9333.149298</td>\n",
       "    </tr>\n",
       "    <tr>\n",
       "      <th>6</th>\n",
       "      <td>20355</td>\n",
       "      <td>9256.535691</td>\n",
       "    </tr>\n",
       "    <tr>\n",
       "      <th>7</th>\n",
       "      <td>59133</td>\n",
       "      <td>9425.728223</td>\n",
       "    </tr>\n",
       "    <tr>\n",
       "      <th>8</th>\n",
       "      <td>1546</td>\n",
       "      <td>9532.592497</td>\n",
       "    </tr>\n",
       "    <tr>\n",
       "      <th>9</th>\n",
       "      <td>6291</td>\n",
       "      <td>8637.743761</td>\n",
       "    </tr>\n",
       "    <tr>\n",
       "      <th>10</th>\n",
       "      <td>12930</td>\n",
       "      <td>8959.355375</td>\n",
       "    </tr>\n",
       "    <tr>\n",
       "      <th>11</th>\n",
       "      <td>11586</td>\n",
       "      <td>9213.845848</td>\n",
       "    </tr>\n",
       "    <tr>\n",
       "      <th>12</th>\n",
       "      <td>31179</td>\n",
       "      <td>9796.640239</td>\n",
       "    </tr>\n",
       "    <tr>\n",
       "      <th>13</th>\n",
       "      <td>7728</td>\n",
       "      <td>9306.351061</td>\n",
       "    </tr>\n",
       "    <tr>\n",
       "      <th>14</th>\n",
       "      <td>27309</td>\n",
       "      <td>9500.702772</td>\n",
       "    </tr>\n",
       "    <tr>\n",
       "      <th>15</th>\n",
       "      <td>12165</td>\n",
       "      <td>9778.891163</td>\n",
       "    </tr>\n",
       "    <tr>\n",
       "      <th>16</th>\n",
       "      <td>25371</td>\n",
       "      <td>9394.464349</td>\n",
       "    </tr>\n",
       "    <tr>\n",
       "      <th>17</th>\n",
       "      <td>40043</td>\n",
       "      <td>9821.478236</td>\n",
       "    </tr>\n",
       "    <tr>\n",
       "      <th>18</th>\n",
       "      <td>6622</td>\n",
       "      <td>9169.655844</td>\n",
       "    </tr>\n",
       "    <tr>\n",
       "      <th>19</th>\n",
       "      <td>8461</td>\n",
       "      <td>8710.627231</td>\n",
       "    </tr>\n",
       "    <tr>\n",
       "      <th>20</th>\n",
       "      <td>33562</td>\n",
       "      <td>8836.494905</td>\n",
       "    </tr>\n",
       "  </tbody>\n",
       "</table>\n",
       "</div>"
      ],
      "text/plain": [
       "            User_ID     Purchase\n",
       "Occupation                      \n",
       "0             69638  9124.428588\n",
       "1             47426  8953.193270\n",
       "2             26588  8952.481683\n",
       "3             17650  9178.593088\n",
       "4             72308  9213.980251\n",
       "5             12177  9333.149298\n",
       "6             20355  9256.535691\n",
       "7             59133  9425.728223\n",
       "8              1546  9532.592497\n",
       "9              6291  8637.743761\n",
       "10            12930  8959.355375\n",
       "11            11586  9213.845848\n",
       "12            31179  9796.640239\n",
       "13             7728  9306.351061\n",
       "14            27309  9500.702772\n",
       "15            12165  9778.891163\n",
       "16            25371  9394.464349\n",
       "17            40043  9821.478236\n",
       "18             6622  9169.655844\n",
       "19             8461  8710.627231\n",
       "20            33562  8836.494905"
      ]
     },
     "execution_count": 12,
     "metadata": {},
     "output_type": "execute_result"
    }
   ],
   "source": [
    "data.groupby(\"Occupation\").agg({\"User_ID\":'count','Purchase':'mean'})"
   ]
  },
  {
   "cell_type": "markdown",
   "metadata": {},
   "source": [
    "## 4. city"
   ]
  },
  {
   "cell_type": "code",
   "execution_count": 13,
   "metadata": {},
   "outputs": [
    {
     "data": {
      "text/html": [
       "<div>\n",
       "<style scoped>\n",
       "    .dataframe tbody tr th:only-of-type {\n",
       "        vertical-align: middle;\n",
       "    }\n",
       "\n",
       "    .dataframe tbody tr th {\n",
       "        vertical-align: top;\n",
       "    }\n",
       "\n",
       "    .dataframe thead th {\n",
       "        text-align: right;\n",
       "    }\n",
       "</style>\n",
       "<table border=\"1\" class=\"dataframe\">\n",
       "  <thead>\n",
       "    <tr style=\"text-align: right;\">\n",
       "      <th></th>\n",
       "      <th>User_ID</th>\n",
       "      <th>Purchase</th>\n",
       "    </tr>\n",
       "    <tr>\n",
       "      <th>City_Category</th>\n",
       "      <th></th>\n",
       "      <th></th>\n",
       "    </tr>\n",
       "  </thead>\n",
       "  <tbody>\n",
       "    <tr>\n",
       "      <th>A</th>\n",
       "      <td>147720</td>\n",
       "      <td>8911.939216</td>\n",
       "    </tr>\n",
       "    <tr>\n",
       "      <th>B</th>\n",
       "      <td>231173</td>\n",
       "      <td>9151.300563</td>\n",
       "    </tr>\n",
       "    <tr>\n",
       "      <th>C</th>\n",
       "      <td>171175</td>\n",
       "      <td>9719.920993</td>\n",
       "    </tr>\n",
       "  </tbody>\n",
       "</table>\n",
       "</div>"
      ],
      "text/plain": [
       "               User_ID     Purchase\n",
       "City_Category                      \n",
       "A               147720  8911.939216\n",
       "B               231173  9151.300563\n",
       "C               171175  9719.920993"
      ]
     },
     "execution_count": 13,
     "metadata": {},
     "output_type": "execute_result"
    }
   ],
   "source": [
    "data.groupby(\"City_Category\").agg({\"User_ID\":'count','Purchase':'mean'})"
   ]
  },
  {
   "cell_type": "markdown",
   "metadata": {},
   "source": [
    "## 5. Stay_in_current_city_years"
   ]
  },
  {
   "cell_type": "code",
   "execution_count": 14,
   "metadata": {},
   "outputs": [
    {
     "data": {
      "text/html": [
       "<div>\n",
       "<style scoped>\n",
       "    .dataframe tbody tr th:only-of-type {\n",
       "        vertical-align: middle;\n",
       "    }\n",
       "\n",
       "    .dataframe tbody tr th {\n",
       "        vertical-align: top;\n",
       "    }\n",
       "\n",
       "    .dataframe thead th {\n",
       "        text-align: right;\n",
       "    }\n",
       "</style>\n",
       "<table border=\"1\" class=\"dataframe\">\n",
       "  <thead>\n",
       "    <tr style=\"text-align: right;\">\n",
       "      <th></th>\n",
       "      <th>User_ID</th>\n",
       "      <th>Purchase</th>\n",
       "    </tr>\n",
       "    <tr>\n",
       "      <th>Stay_In_Current_City_Years</th>\n",
       "      <th></th>\n",
       "      <th></th>\n",
       "    </tr>\n",
       "  </thead>\n",
       "  <tbody>\n",
       "    <tr>\n",
       "      <th>0</th>\n",
       "      <td>74398</td>\n",
       "      <td>9180.075123</td>\n",
       "    </tr>\n",
       "    <tr>\n",
       "      <th>1</th>\n",
       "      <td>193821</td>\n",
       "      <td>9250.145923</td>\n",
       "    </tr>\n",
       "    <tr>\n",
       "      <th>2</th>\n",
       "      <td>101838</td>\n",
       "      <td>9320.429810</td>\n",
       "    </tr>\n",
       "    <tr>\n",
       "      <th>3</th>\n",
       "      <td>95285</td>\n",
       "      <td>9286.904119</td>\n",
       "    </tr>\n",
       "    <tr>\n",
       "      <th>4+</th>\n",
       "      <td>84726</td>\n",
       "      <td>9275.598872</td>\n",
       "    </tr>\n",
       "  </tbody>\n",
       "</table>\n",
       "</div>"
      ],
      "text/plain": [
       "                            User_ID     Purchase\n",
       "Stay_In_Current_City_Years                      \n",
       "0                             74398  9180.075123\n",
       "1                            193821  9250.145923\n",
       "2                            101838  9320.429810\n",
       "3                             95285  9286.904119\n",
       "4+                            84726  9275.598872"
      ]
     },
     "execution_count": 14,
     "metadata": {},
     "output_type": "execute_result"
    }
   ],
   "source": [
    "data.groupby(\"Stay_In_Current_City_Years\").agg({\"User_ID\":'count','Purchase':'mean'})"
   ]
  },
  {
   "cell_type": "markdown",
   "metadata": {},
   "source": [
    "## 6. Marital status"
   ]
  },
  {
   "cell_type": "code",
   "execution_count": 15,
   "metadata": {},
   "outputs": [
    {
     "data": {
      "text/html": [
       "<div>\n",
       "<style scoped>\n",
       "    .dataframe tbody tr th:only-of-type {\n",
       "        vertical-align: middle;\n",
       "    }\n",
       "\n",
       "    .dataframe tbody tr th {\n",
       "        vertical-align: top;\n",
       "    }\n",
       "\n",
       "    .dataframe thead th {\n",
       "        text-align: right;\n",
       "    }\n",
       "</style>\n",
       "<table border=\"1\" class=\"dataframe\">\n",
       "  <thead>\n",
       "    <tr style=\"text-align: right;\">\n",
       "      <th></th>\n",
       "      <th>User_ID</th>\n",
       "      <th>Purchase</th>\n",
       "    </tr>\n",
       "    <tr>\n",
       "      <th>Marital_Status</th>\n",
       "      <th></th>\n",
       "      <th></th>\n",
       "    </tr>\n",
       "  </thead>\n",
       "  <tbody>\n",
       "    <tr>\n",
       "      <th>0</th>\n",
       "      <td>324731</td>\n",
       "      <td>9265.907619</td>\n",
       "    </tr>\n",
       "    <tr>\n",
       "      <th>1</th>\n",
       "      <td>225337</td>\n",
       "      <td>9261.174574</td>\n",
       "    </tr>\n",
       "  </tbody>\n",
       "</table>\n",
       "</div>"
      ],
      "text/plain": [
       "                User_ID     Purchase\n",
       "Marital_Status                      \n",
       "0                324731  9265.907619\n",
       "1                225337  9261.174574"
      ]
     },
     "execution_count": 15,
     "metadata": {},
     "output_type": "execute_result"
    }
   ],
   "source": [
    "data.groupby(\"Marital_Status\").agg({'User_ID':'count','Purchase':'mean'})"
   ]
  },
  {
   "cell_type": "markdown",
   "metadata": {},
   "source": [
    "## 7. Product_Category_1"
   ]
  },
  {
   "cell_type": "code",
   "execution_count": 16,
   "metadata": {},
   "outputs": [
    {
     "data": {
      "text/plain": [
       "count    550068.000000\n",
       "mean          5.404270\n",
       "std           3.936211\n",
       "min           1.000000\n",
       "25%           1.000000\n",
       "50%           5.000000\n",
       "75%           8.000000\n",
       "max          20.000000\n",
       "Name: Product_Category_1, dtype: float64"
      ]
     },
     "execution_count": 16,
     "metadata": {},
     "output_type": "execute_result"
    }
   ],
   "source": [
    "data['Product_Category_1'].describe()"
   ]
  },
  {
   "cell_type": "code",
   "execution_count": 17,
   "metadata": {},
   "outputs": [
    {
     "data": {
      "text/plain": [
       "<AxesSubplot:>"
      ]
     },
     "execution_count": 17,
     "metadata": {},
     "output_type": "execute_result"
    },
    {
     "data": {
      "image/png": "[encoded data removed]",
      "text/plain": [
       "<Figure size 432x288 with 1 Axes>"
      ]
     },
     "metadata": {
      "needs_background": "light"
     },
     "output_type": "display_data"
    }
   ],
   "source": [
    "data['Product_Category_1'].hist()"
   ]
  },
  {
   "cell_type": "code",
   "execution_count": 18,
   "metadata": {},
   "outputs": [
    {
     "data": {
      "text/html": [
       "<div>\n",
       "<style scoped>\n",
       "    .dataframe tbody tr th:only-of-type {\n",
       "        vertical-align: middle;\n",
       "    }\n",
       "\n",
       "    .dataframe tbody tr th {\n",
       "        vertical-align: top;\n",
       "    }\n",
       "\n",
       "    .dataframe thead th {\n",
       "        text-align: right;\n",
       "    }\n",
       "</style>\n",
       "<table border=\"1\" class=\"dataframe\">\n",
       "  <thead>\n",
       "    <tr style=\"text-align: right;\">\n",
       "      <th></th>\n",
       "      <th>User_ID</th>\n",
       "      <th>Purchase</th>\n",
       "    </tr>\n",
       "    <tr>\n",
       "      <th>Product_Category_1</th>\n",
       "      <th></th>\n",
       "      <th></th>\n",
       "    </tr>\n",
       "  </thead>\n",
       "  <tbody>\n",
       "    <tr>\n",
       "      <th>(0, 3]</th>\n",
       "      <td>184455</td>\n",
       "      <td>12917.051059</td>\n",
       "    </tr>\n",
       "    <tr>\n",
       "      <th>(3, 5]</th>\n",
       "      <td>162686</td>\n",
       "      <td>5957.585269</td>\n",
       "    </tr>\n",
       "    <tr>\n",
       "      <th>(5, 8]</th>\n",
       "      <td>138112</td>\n",
       "      <td>8973.628881</td>\n",
       "    </tr>\n",
       "    <tr>\n",
       "      <th>(8, 11]</th>\n",
       "      <td>29822</td>\n",
       "      <td>7410.594192</td>\n",
       "    </tr>\n",
       "    <tr>\n",
       "      <th>(11, 15]</th>\n",
       "      <td>17309</td>\n",
       "      <td>7067.085505</td>\n",
       "    </tr>\n",
       "    <tr>\n",
       "      <th>(15, 18]</th>\n",
       "      <td>13531</td>\n",
       "      <td>11846.095041</td>\n",
       "    </tr>\n",
       "    <tr>\n",
       "      <th>(18, 21]</th>\n",
       "      <td>4153</td>\n",
       "      <td>241.778233</td>\n",
       "    </tr>\n",
       "  </tbody>\n",
       "</table>\n",
       "</div>"
      ],
      "text/plain": [
       "                    User_ID      Purchase\n",
       "Product_Category_1                       \n",
       "(0, 3]               184455  12917.051059\n",
       "(3, 5]               162686   5957.585269\n",
       "(5, 8]               138112   8973.628881\n",
       "(8, 11]               29822   7410.594192\n",
       "(11, 15]              17309   7067.085505\n",
       "(15, 18]              13531  11846.095041\n",
       "(18, 21]               4153    241.778233"
      ]
     },
     "execution_count": 18,
     "metadata": {},
     "output_type": "execute_result"
    }
   ],
   "source": [
    "data.groupby(pd.cut(data['Product_Category_1'],[0,3,5,8,11,15,18,21])).agg({'User_ID':'count','Purchase':'mean'})"
   ]
  },
  {
   "cell_type": "markdown",
   "metadata": {},
   "source": [
    "## 8. Product_Category_2"
   ]
  },
  {
   "cell_type": "code",
   "execution_count": 19,
   "metadata": {},
   "outputs": [
    {
     "data": {
      "text/plain": [
       "array([nan,  6., 14.,  2.,  8., 15., 16., 11.,  5.,  3.,  4., 12.,  9.,\n",
       "       10., 17., 13.,  7., 18.])"
      ]
     },
     "execution_count": 19,
     "metadata": {},
     "output_type": "execute_result"
    }
   ],
   "source": [
    "data['Product_Category_2'].unique()"
   ]
  },
  {
   "cell_type": "code",
   "execution_count": 20,
   "metadata": {},
   "outputs": [],
   "source": [
    "data=data.fillna({'Product_Category_2':0})"
   ]
  },
  {
   "cell_type": "code",
   "execution_count": 21,
   "metadata": {},
   "outputs": [
    {
     "data": {
      "text/html": [
       "<div>\n",
       "<style scoped>\n",
       "    .dataframe tbody tr th:only-of-type {\n",
       "        vertical-align: middle;\n",
       "    }\n",
       "\n",
       "    .dataframe tbody tr th {\n",
       "        vertical-align: top;\n",
       "    }\n",
       "\n",
       "    .dataframe thead th {\n",
       "        text-align: right;\n",
       "    }\n",
       "</style>\n",
       "<table border=\"1\" class=\"dataframe\">\n",
       "  <thead>\n",
       "    <tr style=\"text-align: right;\">\n",
       "      <th></th>\n",
       "      <th>User_ID</th>\n",
       "      <th>Purchase</th>\n",
       "    </tr>\n",
       "    <tr>\n",
       "      <th>Product_Category_2</th>\n",
       "      <th></th>\n",
       "      <th></th>\n",
       "    </tr>\n",
       "  </thead>\n",
       "  <tbody>\n",
       "    <tr>\n",
       "      <th>(-1, 0]</th>\n",
       "      <td>173638</td>\n",
       "      <td>7518.695389</td>\n",
       "    </tr>\n",
       "    <tr>\n",
       "      <th>(0, 3]</th>\n",
       "      <td>52101</td>\n",
       "      <td>13487.392584</td>\n",
       "    </tr>\n",
       "    <tr>\n",
       "      <th>(3, 5]</th>\n",
       "      <td>51912</td>\n",
       "      <td>9615.125289</td>\n",
       "    </tr>\n",
       "    <tr>\n",
       "      <th>(5, 8]</th>\n",
       "      <td>81180</td>\n",
       "      <td>10496.673380</td>\n",
       "    </tr>\n",
       "    <tr>\n",
       "      <th>(8, 11]</th>\n",
       "      <td>22870</td>\n",
       "      <td>9419.031439</td>\n",
       "    </tr>\n",
       "    <tr>\n",
       "      <th>(11, 15]</th>\n",
       "      <td>109022</td>\n",
       "      <td>8476.820376</td>\n",
       "    </tr>\n",
       "    <tr>\n",
       "      <th>(15, 18]</th>\n",
       "      <td>59345</td>\n",
       "      <td>10055.461825</td>\n",
       "    </tr>\n",
       "  </tbody>\n",
       "</table>\n",
       "</div>"
      ],
      "text/plain": [
       "                    User_ID      Purchase\n",
       "Product_Category_2                       \n",
       "(-1, 0]              173638   7518.695389\n",
       "(0, 3]                52101  13487.392584\n",
       "(3, 5]                51912   9615.125289\n",
       "(5, 8]                81180  10496.673380\n",
       "(8, 11]               22870   9419.031439\n",
       "(11, 15]             109022   8476.820376\n",
       "(15, 18]              59345  10055.461825"
      ]
     },
     "execution_count": 21,
     "metadata": {},
     "output_type": "execute_result"
    }
   ],
   "source": [
    "data.groupby(pd.cut(data['Product_Category_2'],[-1,0,3,5,8,11,15,18])).agg({'User_ID':'count','Purchase':'mean'})"
   ]
  },
  {
   "cell_type": "markdown",
   "metadata": {},
   "source": [
    "## 10. Product_Category_3"
   ]
  },
  {
   "cell_type": "code",
   "execution_count": 22,
   "metadata": {},
   "outputs": [
    {
     "data": {
      "text/plain": [
       "array([nan, 14., 17.,  5.,  4., 16., 15.,  8.,  9., 13.,  6., 12.,  3.,\n",
       "       18., 11., 10.])"
      ]
     },
     "execution_count": 22,
     "metadata": {},
     "output_type": "execute_result"
    }
   ],
   "source": [
    "data['Product_Category_3'].unique()"
   ]
  },
  {
   "cell_type": "code",
   "execution_count": 23,
   "metadata": {},
   "outputs": [],
   "source": [
    "data=data.fillna({'Product_Category_3':0})"
   ]
  },
  {
   "cell_type": "code",
   "execution_count": 24,
   "metadata": {},
   "outputs": [
    {
     "data": {
      "text/html": [
       "<div>\n",
       "<style scoped>\n",
       "    .dataframe tbody tr th:only-of-type {\n",
       "        vertical-align: middle;\n",
       "    }\n",
       "\n",
       "    .dataframe tbody tr th {\n",
       "        vertical-align: top;\n",
       "    }\n",
       "\n",
       "    .dataframe thead th {\n",
       "        text-align: right;\n",
       "    }\n",
       "</style>\n",
       "<table border=\"1\" class=\"dataframe\">\n",
       "  <thead>\n",
       "    <tr style=\"text-align: right;\">\n",
       "      <th></th>\n",
       "      <th>User_ID</th>\n",
       "      <th>Purchase</th>\n",
       "    </tr>\n",
       "    <tr>\n",
       "      <th>Product_Category_3</th>\n",
       "      <th></th>\n",
       "      <th></th>\n",
       "    </tr>\n",
       "  </thead>\n",
       "  <tbody>\n",
       "    <tr>\n",
       "      <th>(-1, 0]</th>\n",
       "      <td>383247</td>\n",
       "      <td>8221.836943</td>\n",
       "    </tr>\n",
       "    <tr>\n",
       "      <th>(0, 3]</th>\n",
       "      <td>613</td>\n",
       "      <td>13939.696574</td>\n",
       "    </tr>\n",
       "    <tr>\n",
       "      <th>(3, 5]</th>\n",
       "      <td>18533</td>\n",
       "      <td>11882.726434</td>\n",
       "    </tr>\n",
       "    <tr>\n",
       "      <th>(5, 8]</th>\n",
       "      <td>17452</td>\n",
       "      <td>13072.382077</td>\n",
       "    </tr>\n",
       "    <tr>\n",
       "      <th>(8, 11]</th>\n",
       "      <td>15110</td>\n",
       "      <td>10981.118531</td>\n",
       "    </tr>\n",
       "    <tr>\n",
       "      <th>(11, 15]</th>\n",
       "      <td>61146</td>\n",
       "      <td>11177.725035</td>\n",
       "    </tr>\n",
       "    <tr>\n",
       "      <th>(15, 18]</th>\n",
       "      <td>53967</td>\n",
       "      <td>11831.558323</td>\n",
       "    </tr>\n",
       "  </tbody>\n",
       "</table>\n",
       "</div>"
      ],
      "text/plain": [
       "                    User_ID      Purchase\n",
       "Product_Category_3                       \n",
       "(-1, 0]              383247   8221.836943\n",
       "(0, 3]                  613  13939.696574\n",
       "(3, 5]                18533  11882.726434\n",
       "(5, 8]                17452  13072.382077\n",
       "(8, 11]               15110  10981.118531\n",
       "(11, 15]              61146  11177.725035\n",
       "(15, 18]              53967  11831.558323"
      ]
     },
     "execution_count": 24,
     "metadata": {},
     "output_type": "execute_result"
    }
   ],
   "source": [
    "data.groupby(pd.cut(data['Product_Category_3'],[-1,0,3,5,8,11,15,18])).agg({'User_ID':'count','Purchase':'mean'})"
   ]
  },
  {
   "cell_type": "markdown",
   "metadata": {},
   "source": [
    "## 11. Mean product purchase"
   ]
  },
  {
   "cell_type": "code",
   "execution_count": 25,
   "metadata": {},
   "outputs": [],
   "source": [
    "mean_prods=data.groupby(\"Product_ID\").agg({'Purchase':'mean'}).reset_index()\n",
    "mean_prods.columns=['Product_ID','mean_prod_purchase']"
   ]
  },
  {
   "cell_type": "code",
   "execution_count": 330,
   "metadata": {},
   "outputs": [],
   "source": [
    "std_prods=data.groupby(\"Product_ID\").agg({'Purchase':'std'}).reset_index()\n",
    "std_prods.columns=['Product_ID','std_prod_purchase']"
   ]
  },
  {
   "cell_type": "markdown",
   "metadata": {},
   "source": [
    "## 12. Mean User Purchase"
   ]
  },
  {
   "cell_type": "code",
   "execution_count": 26,
   "metadata": {},
   "outputs": [],
   "source": [
    "mean_user=data.groupby(\"User_ID\").agg({'Purchase':'mean'}).reset_index()\n",
    "mean_user.columns=['User_ID','mean_user_purchase']"
   ]
  },
  {
   "cell_type": "code",
   "execution_count": 331,
   "metadata": {},
   "outputs": [],
   "source": [
    "std_user=data.groupby(\"User_ID\").agg({'Purchase':'std'}).reset_index()\n",
    "std_user.columns=['User_ID','std_user_purchase']"
   ]
  },
  {
   "cell_type": "markdown",
   "metadata": {},
   "source": [
    "# Pre-processing"
   ]
  },
  {
   "cell_type": "code",
   "execution_count": 27,
   "metadata": {},
   "outputs": [],
   "source": [
    "data['Occupation']=data['Occupation'].apply(lambda x: str(x))"
   ]
  },
  {
   "cell_type": "code",
   "execution_count": 28,
   "metadata": {},
   "outputs": [],
   "source": [
    "data=data.merge(mean_prods,on=['Product_ID'])\n",
    "data=data.merge(mean_user,on=['User_ID'])"
   ]
  },
  {
   "cell_type": "code",
   "execution_count": 30,
   "metadata": {},
   "outputs": [],
   "source": [
    "cat_cols=['Gender', 'City_Category','Age','Marital_Status','Occupation',\"Stay_In_Current_City_Years\"]\n",
    "num_cols=['Product_Category_1', \n",
    "           'Product_Category_2', 'Product_Category_3','mean_prod_purchase','mean_user_purchase']"
   ]
  },
  {
   "cell_type": "code",
   "execution_count": 31,
   "metadata": {},
   "outputs": [],
   "source": [
    "data_cat=pd.get_dummies(data[cat_cols])\n",
    "data_num=data[num_cols]\n",
    "Purchase=data['Purchase']"
   ]
  },
  {
   "cell_type": "code",
   "execution_count": 32,
   "metadata": {},
   "outputs": [],
   "source": [
    "data=pd.concat([data_cat,data_num],axis=1)\n",
    "data['Purchase']=Purchase"
   ]
  },
  {
   "cell_type": "markdown",
   "metadata": {},
   "source": [
    "# train-validation split"
   ]
  },
  {
   "cell_type": "code",
   "execution_count": 33,
   "metadata": {},
   "outputs": [],
   "source": [
    "from sklearn.model_selection import train_test_split"
   ]
  },
  {
   "cell_type": "code",
   "execution_count": 34,
   "metadata": {},
   "outputs": [],
   "source": [
    "train,validation=train_test_split(data,test_size=0.2)"
   ]
  },
  {
   "cell_type": "markdown",
   "metadata": {},
   "source": [
    "# AutoMl"
   ]
  },
  {
   "cell_type": "code",
   "execution_count": 220,
   "metadata": {},
   "outputs": [
    {
     "name": "stdout",
     "output_type": "stream",
     "text": [
      "Checking whether there is an H2O instance running at http://localhost:54321 ..... not found.\n",
      "Attempting to start a local H2O server...\n",
      "; Java HotSpot(TM) 64-Bit Server VM (build 14.0.2+12-46, mixed mode, sharing)\n",
      "  Starting server from C:\\Users\\imayu\\AppData\\Local\\Programs\\Python\\Python36\\lib\\site-packages\\h2o\\backend\\bin\\h2o.jar\n",
      "  Ice root: C:\\Users\\imayu\\AppData\\Local\\Temp\\tmp2lra2ek3\n",
      "  JVM stdout: C:\\Users\\imayu\\AppData\\Local\\Temp\\tmp2lra2ek3\\h2o_imayu_started_from_python.out\n",
      "  JVM stderr: C:\\Users\\imayu\\AppData\\Local\\Temp\\tmp2lra2ek3\\h2o_imayu_started_from_python.err\n",
      "  Server is running at http://127.0.0.1:54321\n",
      "Connecting to H2O server at http://127.0.0.1:54321 ... successful.\n"
     ]
    },
    {
     "data": {
      "text/html": [
       "<div style=\"overflow:auto\"><table style=\"width:50%\"><tr><td>H2O_cluster_uptime:</td>\n",
       "<td>01 secs</td></tr>\n",
       "<tr><td>H2O_cluster_timezone:</td>\n",
       "<td>Asia/Kolkata</td></tr>\n",
       "<tr><td>H2O_data_parsing_timezone:</td>\n",
       "<td>UTC</td></tr>\n",
       "<tr><td>H2O_cluster_version:</td>\n",
       "<td>3.32.0.2</td></tr>\n",
       "<tr><td>H2O_cluster_version_age:</td>\n",
       "<td>24 days </td></tr>\n",
       "<tr><td>H2O_cluster_name:</td>\n",
       "<td>H2O_from_python_imayu_wv0q2x</td></tr>\n",
       "<tr><td>H2O_cluster_total_nodes:</td>\n",
       "<td>1</td></tr>\n",
       "<tr><td>H2O_cluster_free_memory:</td>\n",
       "<td>1 Gb</td></tr>\n",
       "<tr><td>H2O_cluster_total_cores:</td>\n",
       "<td>8</td></tr>\n",
       "<tr><td>H2O_cluster_allowed_cores:</td>\n",
       "<td>8</td></tr>\n",
       "<tr><td>H2O_cluster_status:</td>\n",
       "<td>accepting new members, healthy</td></tr>\n",
       "<tr><td>H2O_connection_url:</td>\n",
       "<td>http://127.0.0.1:54321</td></tr>\n",
       "<tr><td>H2O_connection_proxy:</td>\n",
       "<td>{\"http\": null, \"https\": null}</td></tr>\n",
       "<tr><td>H2O_internal_security:</td>\n",
       "<td>False</td></tr>\n",
       "<tr><td>H2O_API_Extensions:</td>\n",
       "<td>Amazon S3, Algos, AutoML, Core V3, TargetEncoder, Core V4</td></tr>\n",
       "<tr><td>Python_version:</td>\n",
       "<td>3.6.8 final</td></tr></table></div>"
      ],
      "text/plain": [
       "--------------------------  ---------------------------------------------------------\n",
       "H2O_cluster_uptime:         01 secs\n",
       "H2O_cluster_timezone:       Asia/Kolkata\n",
       "H2O_data_parsing_timezone:  UTC\n",
       "H2O_cluster_version:        3.32.0.2\n",
       "H2O_cluster_version_age:    24 days\n",
       "H2O_cluster_name:           H2O_from_python_imayu_wv0q2x\n",
       "H2O_cluster_total_nodes:    1\n",
       "H2O_cluster_free_memory:    1 Gb\n",
       "H2O_cluster_total_cores:    8\n",
       "H2O_cluster_allowed_cores:  8\n",
       "H2O_cluster_status:         accepting new members, healthy\n",
       "H2O_connection_url:         http://127.0.0.1:54321\n",
       "H2O_connection_proxy:       {\"http\": null, \"https\": null}\n",
       "H2O_internal_security:      False\n",
       "H2O_API_Extensions:         Amazon S3, Algos, AutoML, Core V3, TargetEncoder, Core V4\n",
       "Python_version:             3.6.8 final\n",
       "--------------------------  ---------------------------------------------------------"
      ]
     },
     "metadata": {},
     "output_type": "display_data"
    }
   ],
   "source": [
    "import h2o\n",
    "from h2o.automl import H2OAutoML\n",
    "\n",
    "h2o.init(max_mem_size=\"1G\")"
   ]
  },
  {
   "cell_type": "code",
   "execution_count": 221,
   "metadata": {},
   "outputs": [
    {
     "name": "stdout",
     "output_type": "stream",
     "text": [
      "Parse progress: |█████████████████████████████████████████████████████████| 100%\n",
      "Parse progress: |█████████████████████████████████████████████████████████| 100%\n"
     ]
    }
   ],
   "source": [
    "hf_train=h2o.H2OFrame(train)\n",
    "hf_validation=h2o.H2OFrame(validation)"
   ]
  },
  {
   "cell_type": "code",
   "execution_count": 163,
   "metadata": {},
   "outputs": [
    {
     "data": {
      "text/plain": [
       "Index(['Marital_Status', 'Gender_F', 'Gender_M', 'City_Category_A',\n",
       "       'City_Category_B', 'City_Category_C', 'Age_0-17', 'Age_18-25',\n",
       "       'Age_26-35', 'Age_36-45', 'Age_46-50', 'Age_51-55', 'Age_55+',\n",
       "       'Occupation_0', 'Occupation_1', 'Occupation_10', 'Occupation_11',\n",
       "       'Occupation_12', 'Occupation_13', 'Occupation_14', 'Occupation_15',\n",
       "       'Occupation_16', 'Occupation_17', 'Occupation_18', 'Occupation_19',\n",
       "       'Occupation_2', 'Occupation_20', 'Occupation_3', 'Occupation_4',\n",
       "       'Occupation_5', 'Occupation_6', 'Occupation_7', 'Occupation_8',\n",
       "       'Occupation_9', 'Stay_In_Current_City_Years_0',\n",
       "       'Stay_In_Current_City_Years_1', 'Stay_In_Current_City_Years_2',\n",
       "       'Stay_In_Current_City_Years_3', 'Stay_In_Current_City_Years_4+',\n",
       "       'Product_Category_1', 'Product_Category_2', 'Product_Category_3',\n",
       "       'mean_prod_purchase', 'mean_user_purchase', 'Purchase'],\n",
       "      dtype='object')"
      ]
     },
     "execution_count": 163,
     "metadata": {},
     "output_type": "execute_result"
    }
   ],
   "source": [
    "train.columns"
   ]
  },
  {
   "cell_type": "code",
   "execution_count": 171,
   "metadata": {},
   "outputs": [],
   "source": [
    "features=['Marital_Status', 'Gender_F', 'Gender_M', 'City_Category_A',\n",
    "       'City_Category_B', 'City_Category_C', 'Age_0-17', 'Age_18-25',\n",
    "       'Age_26-35', 'Age_36-45', 'Age_46-50', 'Age_51-55', 'Age_55+',\n",
    "       'Occupation_0', 'Occupation_1', 'Occupation_10', 'Occupation_11',\n",
    "       'Occupation_12', 'Occupation_13', 'Occupation_14', 'Occupation_15',\n",
    "       'Occupation_16', 'Occupation_17', 'Occupation_18', 'Occupation_19',\n",
    "       'Occupation_2', 'Occupation_20', 'Occupation_3', 'Occupation_4',\n",
    "       'Occupation_5', 'Occupation_6', 'Occupation_7', 'Occupation_8',\n",
    "       'Occupation_9', 'Stay_In_Current_City_Years_0',\n",
    "       'Stay_In_Current_City_Years_1', 'Stay_In_Current_City_Years_2',\n",
    "       'Stay_In_Current_City_Years_3', 'Stay_In_Current_City_Years_4+',\n",
    "       'Product_Category_1', 'Product_Category_2', 'Product_Category_3','mean_prod_purchase','mean_user_purchase']\n",
    "target=['Purchase']"
   ]
  },
  {
   "cell_type": "code",
   "execution_count": 224,
   "metadata": {},
   "outputs": [
    {
     "name": "stdout",
     "output_type": "stream",
     "text": [
      "AutoML progress: |\n",
      "19:03:21.851: AutoML: XGBoost is not available; skipping it.\n",
      "\n",
      "████████████████████████████████████████████████████████| 100%\n"
     ]
    }
   ],
   "source": [
    "aml = H2OAutoML(max_runtime_secs = 600,max_models=20, seed=1,nfolds=0)\n",
    "aml.train(x=features, y='Purchase', training_frame=hf_train,leaderboard_frame=hf_validation)"
   ]
  },
  {
   "cell_type": "code",
   "execution_count": 225,
   "metadata": {},
   "outputs": [
    {
     "data": {
      "text/html": [
       "<table>\n",
       "<thead>\n",
       "<tr><th>model_id                                  </th><th style=\"text-align: right;\">  mean_residual_deviance</th><th style=\"text-align: right;\">   rmse</th><th style=\"text-align: right;\">        mse</th><th style=\"text-align: right;\">    mae</th><th style=\"text-align: right;\">     rmsle</th></tr>\n",
       "</thead>\n",
       "<tbody>\n",
       "<tr><td>GBM_grid__1_AutoML_20201211_190321_model_4</td><td style=\"text-align: right;\">             6.69655e+06</td><td style=\"text-align: right;\">2587.77</td><td style=\"text-align: right;\">6.69655e+06</td><td style=\"text-align: right;\">1905.48</td><td style=\"text-align: right;\">nan       </td></tr>\n",
       "<tr><td>GBM_4_AutoML_20201211_190321              </td><td style=\"text-align: right;\">             6.70704e+06</td><td style=\"text-align: right;\">2589.8 </td><td style=\"text-align: right;\">6.70704e+06</td><td style=\"text-align: right;\">1907.49</td><td style=\"text-align: right;\">nan       </td></tr>\n",
       "<tr><td>GBM_3_AutoML_20201211_190321              </td><td style=\"text-align: right;\">             6.78072e+06</td><td style=\"text-align: right;\">2603.98</td><td style=\"text-align: right;\">6.78072e+06</td><td style=\"text-align: right;\">1919.82</td><td style=\"text-align: right;\">nan       </td></tr>\n",
       "<tr><td>GBM_5_AutoML_20201211_190321              </td><td style=\"text-align: right;\">             6.78907e+06</td><td style=\"text-align: right;\">2605.59</td><td style=\"text-align: right;\">6.78907e+06</td><td style=\"text-align: right;\">1918.95</td><td style=\"text-align: right;\">nan       </td></tr>\n",
       "<tr><td>GBM_2_AutoML_20201211_190321              </td><td style=\"text-align: right;\">             6.80546e+06</td><td style=\"text-align: right;\">2608.73</td><td style=\"text-align: right;\">6.80546e+06</td><td style=\"text-align: right;\">1924.49</td><td style=\"text-align: right;\">nan       </td></tr>\n",
       "<tr><td>GBM_1_AutoML_20201211_190321              </td><td style=\"text-align: right;\">             6.84526e+06</td><td style=\"text-align: right;\">2616.34</td><td style=\"text-align: right;\">6.84526e+06</td><td style=\"text-align: right;\">1931.26</td><td style=\"text-align: right;\">nan       </td></tr>\n",
       "<tr><td>GBM_grid__1_AutoML_20201211_190321_model_6</td><td style=\"text-align: right;\">             6.89696e+06</td><td style=\"text-align: right;\">2626.21</td><td style=\"text-align: right;\">6.89696e+06</td><td style=\"text-align: right;\">1939.01</td><td style=\"text-align: right;\">  0.351684</td></tr>\n",
       "<tr><td>DeepLearning_1_AutoML_20201211_190321     </td><td style=\"text-align: right;\">             6.9402e+06 </td><td style=\"text-align: right;\">2634.43</td><td style=\"text-align: right;\">6.9402e+06 </td><td style=\"text-align: right;\">1943.78</td><td style=\"text-align: right;\">nan       </td></tr>\n",
       "<tr><td>XRT_1_AutoML_20201211_190321              </td><td style=\"text-align: right;\">             6.94893e+06</td><td style=\"text-align: right;\">2636.08</td><td style=\"text-align: right;\">6.94893e+06</td><td style=\"text-align: right;\">1936.11</td><td style=\"text-align: right;\">  0.340221</td></tr>\n",
       "<tr><td>GBM_grid__1_AutoML_20201211_190321_model_1</td><td style=\"text-align: right;\">             6.97523e+06</td><td style=\"text-align: right;\">2641.07</td><td style=\"text-align: right;\">6.97523e+06</td><td style=\"text-align: right;\">1953.69</td><td style=\"text-align: right;\">nan       </td></tr>\n",
       "</tbody>\n",
       "</table>"
      ]
     },
     "metadata": {},
     "output_type": "display_data"
    },
    {
     "data": {
      "text/plain": []
     },
     "execution_count": 225,
     "metadata": {},
     "output_type": "execute_result"
    }
   ],
   "source": [
    "aml.leaderboard"
   ]
  },
  {
   "cell_type": "code",
   "execution_count": 43,
   "metadata": {},
   "outputs": [],
   "source": [
    "mdl=aml.leader"
   ]
  },
  {
   "cell_type": "code",
   "execution_count": 172,
   "metadata": {},
   "outputs": [
    {
     "data": {
      "text/html": [
       "<div>\n",
       "<style scoped>\n",
       "    .dataframe tbody tr th:only-of-type {\n",
       "        vertical-align: middle;\n",
       "    }\n",
       "\n",
       "    .dataframe tbody tr th {\n",
       "        vertical-align: top;\n",
       "    }\n",
       "\n",
       "    .dataframe thead th {\n",
       "        text-align: right;\n",
       "    }\n",
       "</style>\n",
       "<table border=\"1\" class=\"dataframe\">\n",
       "  <thead>\n",
       "    <tr style=\"text-align: right;\">\n",
       "      <th></th>\n",
       "      <th>User_ID</th>\n",
       "      <th>Product_ID</th>\n",
       "      <th>Gender</th>\n",
       "      <th>Age</th>\n",
       "      <th>Occupation</th>\n",
       "      <th>City_Category</th>\n",
       "      <th>Stay_In_Current_City_Years</th>\n",
       "      <th>Marital_Status</th>\n",
       "      <th>Product_Category_1</th>\n",
       "      <th>Product_Category_2</th>\n",
       "      <th>Product_Category_3</th>\n",
       "    </tr>\n",
       "  </thead>\n",
       "  <tbody>\n",
       "    <tr>\n",
       "      <th>0</th>\n",
       "      <td>1000004</td>\n",
       "      <td>P00128942</td>\n",
       "      <td>M</td>\n",
       "      <td>46-50</td>\n",
       "      <td>7</td>\n",
       "      <td>B</td>\n",
       "      <td>2</td>\n",
       "      <td>1</td>\n",
       "      <td>1</td>\n",
       "      <td>11.0</td>\n",
       "      <td>NaN</td>\n",
       "    </tr>\n",
       "    <tr>\n",
       "      <th>1</th>\n",
       "      <td>1000009</td>\n",
       "      <td>P00113442</td>\n",
       "      <td>M</td>\n",
       "      <td>26-35</td>\n",
       "      <td>17</td>\n",
       "      <td>C</td>\n",
       "      <td>0</td>\n",
       "      <td>0</td>\n",
       "      <td>3</td>\n",
       "      <td>5.0</td>\n",
       "      <td>NaN</td>\n",
       "    </tr>\n",
       "    <tr>\n",
       "      <th>2</th>\n",
       "      <td>1000010</td>\n",
       "      <td>P00288442</td>\n",
       "      <td>F</td>\n",
       "      <td>36-45</td>\n",
       "      <td>1</td>\n",
       "      <td>B</td>\n",
       "      <td>4+</td>\n",
       "      <td>1</td>\n",
       "      <td>5</td>\n",
       "      <td>14.0</td>\n",
       "      <td>NaN</td>\n",
       "    </tr>\n",
       "    <tr>\n",
       "      <th>3</th>\n",
       "      <td>1000010</td>\n",
       "      <td>P00145342</td>\n",
       "      <td>F</td>\n",
       "      <td>36-45</td>\n",
       "      <td>1</td>\n",
       "      <td>B</td>\n",
       "      <td>4+</td>\n",
       "      <td>1</td>\n",
       "      <td>4</td>\n",
       "      <td>9.0</td>\n",
       "      <td>NaN</td>\n",
       "    </tr>\n",
       "    <tr>\n",
       "      <th>4</th>\n",
       "      <td>1000011</td>\n",
       "      <td>P00053842</td>\n",
       "      <td>F</td>\n",
       "      <td>26-35</td>\n",
       "      <td>1</td>\n",
       "      <td>C</td>\n",
       "      <td>1</td>\n",
       "      <td>0</td>\n",
       "      <td>4</td>\n",
       "      <td>5.0</td>\n",
       "      <td>12.0</td>\n",
       "    </tr>\n",
       "  </tbody>\n",
       "</table>\n",
       "</div>"
      ],
      "text/plain": [
       "   User_ID Product_ID Gender    Age  Occupation City_Category  \\\n",
       "0  1000004  P00128942      M  46-50           7             B   \n",
       "1  1000009  P00113442      M  26-35          17             C   \n",
       "2  1000010  P00288442      F  36-45           1             B   \n",
       "3  1000010  P00145342      F  36-45           1             B   \n",
       "4  1000011  P00053842      F  26-35           1             C   \n",
       "\n",
       "  Stay_In_Current_City_Years  Marital_Status  Product_Category_1  \\\n",
       "0                          2               1                   1   \n",
       "1                          0               0                   3   \n",
       "2                         4+               1                   5   \n",
       "3                         4+               1                   4   \n",
       "4                          1               0                   4   \n",
       "\n",
       "   Product_Category_2  Product_Category_3  \n",
       "0                11.0                 NaN  \n",
       "1                 5.0                 NaN  \n",
       "2                14.0                 NaN  \n",
       "3                 9.0                 NaN  \n",
       "4                 5.0                12.0  "
      ]
     },
     "execution_count": 172,
     "metadata": {},
     "output_type": "execute_result"
    }
   ],
   "source": [
    "test_data=pd.read_csv(\"test.csv\")\n",
    "test_data.head()"
   ]
  },
  {
   "cell_type": "code",
   "execution_count": 173,
   "metadata": {},
   "outputs": [
    {
     "data": {
      "text/plain": [
       "Index(['Marital_Status', 'Gender_F', 'Gender_M', 'City_Category_A',\n",
       "       'City_Category_B', 'City_Category_C', 'Age_0-17', 'Age_18-25',\n",
       "       'Age_26-35', 'Age_36-45', 'Age_46-50', 'Age_51-55', 'Age_55+',\n",
       "       'Occupation_0', 'Occupation_1', 'Occupation_10', 'Occupation_11',\n",
       "       'Occupation_12', 'Occupation_13', 'Occupation_14', 'Occupation_15',\n",
       "       'Occupation_16', 'Occupation_17', 'Occupation_18', 'Occupation_19',\n",
       "       'Occupation_2', 'Occupation_20', 'Occupation_3', 'Occupation_4',\n",
       "       'Occupation_5', 'Occupation_6', 'Occupation_7', 'Occupation_8',\n",
       "       'Occupation_9', 'Stay_In_Current_City_Years_0',\n",
       "       'Stay_In_Current_City_Years_1', 'Stay_In_Current_City_Years_2',\n",
       "       'Stay_In_Current_City_Years_3', 'Stay_In_Current_City_Years_4+',\n",
       "       'Product_Category_1', 'Product_Category_2', 'Product_Category_3',\n",
       "       'mean_prod_purchase', 'mean_user_purchase'],\n",
       "      dtype='object')"
      ]
     },
     "execution_count": 173,
     "metadata": {},
     "output_type": "execute_result"
    }
   ],
   "source": [
    "test_data=test_data.merge(mean_prods,on=['Product_ID'])\n",
    "test_data=test_data.merge(mean_user,on=['User_ID'])\n",
    "# test_data=test_data.merge(std_prods,on=['Product_ID'])\n",
    "# test_data=test_data.merge(std_user,on=['User_ID'])\n",
    "cat_cols=['Gender', 'City_Category','Age','Marital_Status','Occupation',\"Stay_In_Current_City_Years\"]\n",
    "num_cols=['Product_Category_1', \n",
    "           'Product_Category_2', 'Product_Category_3','mean_prod_purchase','mean_user_purchase']\n",
    "test_data=test_data.fillna({'Product_Category_3':0,'Product_Category_2':0,'Product_Category_1':0})\n",
    "test_data['Occupation']=test_data['Occupation'].apply(lambda x: str(x))\n",
    "test_data_cat=pd.get_dummies(test_data[cat_cols])\n",
    "test_data_num=test_data[num_cols]\n",
    "test=pd.concat([test_data_cat,test_data_num],axis=1)\n",
    "test.columns"
   ]
  },
  {
   "cell_type": "code",
   "execution_count": 54,
   "metadata": {},
   "outputs": [
    {
     "name": "stdout",
     "output_type": "stream",
     "text": [
      "Parse progress: |█████████████████████████████████████████████████████████| 100%\n",
      "gbm prediction progress: |████████████████████████████████████████████████| 100%\n"
     ]
    }
   ],
   "source": [
    "hf_test=h2o.H2OFrame(test)\n",
    "hf_test['pred']=mdl.predict(hf_test)"
   ]
  },
  {
   "cell_type": "code",
   "execution_count": 57,
   "metadata": {},
   "outputs": [],
   "source": [
    "test_data['Purchase']=h2o.as_list(hf_test['pred'])"
   ]
  },
  {
   "cell_type": "code",
   "execution_count": 58,
   "metadata": {},
   "outputs": [],
   "source": [
    "test_data[['Purchase','User_ID','Product_ID']].to_csv(\"gbm-submit.csv\",index=False)"
   ]
  },
  {
   "cell_type": "code",
   "execution_count": 250,
   "metadata": {},
   "outputs": [
    {
     "name": "stderr",
     "output_type": "stream",
     "text": [
      "C:\\Users\\imayu\\AppData\\Local\\Programs\\Python\\Python36\\lib\\site-packages\\ipykernel_launcher.py:1: H2ODeprecationWarning: Deprecated, use ``h2o.cluster().shutdown()``.\n",
      "  \"\"\"Entry point for launching an IPython kernel.\n"
     ]
    },
    {
     "name": "stdout",
     "output_type": "stream",
     "text": [
      "H2O session _sid_9dad closed.\n"
     ]
    }
   ],
   "source": [
    "h2o.shutdown()"
   ]
  },
  {
   "cell_type": "markdown",
   "metadata": {},
   "source": [
    "# Xgboost"
   ]
  },
  {
   "cell_type": "code",
   "execution_count": 160,
   "metadata": {},
   "outputs": [],
   "source": [
    "from xgboost.sklearn import XGBRegressor"
   ]
  },
  {
   "cell_type": "code",
   "execution_count": 161,
   "metadata": {},
   "outputs": [
    {
     "data": {
      "text/plain": [
       "['Marital_Status',\n",
       " 'Gender_F',\n",
       " 'Gender_M',\n",
       " 'City_Category_A',\n",
       " 'City_Category_B',\n",
       " 'City_Category_C',\n",
       " 'Age_0-17',\n",
       " 'Age_18-25',\n",
       " 'Age_26-35',\n",
       " 'Age_36-45',\n",
       " 'Age_46-50',\n",
       " 'Age_51-55',\n",
       " 'Age_55+',\n",
       " 'Occupation_0',\n",
       " 'Occupation_1',\n",
       " 'Occupation_10',\n",
       " 'Occupation_11',\n",
       " 'Occupation_12',\n",
       " 'Occupation_13',\n",
       " 'Occupation_14',\n",
       " 'Occupation_15',\n",
       " 'Occupation_16',\n",
       " 'Occupation_17',\n",
       " 'Occupation_18',\n",
       " 'Occupation_19',\n",
       " 'Occupation_2',\n",
       " 'Occupation_20',\n",
       " 'Occupation_3',\n",
       " 'Occupation_4',\n",
       " 'Occupation_5',\n",
       " 'Occupation_6',\n",
       " 'Occupation_7',\n",
       " 'Occupation_8',\n",
       " 'Occupation_9',\n",
       " 'Stay_In_Current_City_Years_0',\n",
       " 'Stay_In_Current_City_Years_1',\n",
       " 'Stay_In_Current_City_Years_2',\n",
       " 'Stay_In_Current_City_Years_3',\n",
       " 'Stay_In_Current_City_Years_4+',\n",
       " 'mean_prod_purchase',\n",
       " 'mean_user_purchase']"
      ]
     },
     "execution_count": 161,
     "metadata": {},
     "output_type": "execute_result"
    }
   ],
   "source": [
    "features"
   ]
  },
  {
   "cell_type": "code",
   "execution_count": 162,
   "metadata": {},
   "outputs": [
    {
     "name": "stdout",
     "output_type": "stream",
     "text": [
      "[0]\tvalidation_0-rmse:7599.68457\n",
      "Will train until validation_0-rmse hasn't improved in 10 rounds.\n",
      "[1]\tvalidation_0-rmse:5619.17090\n",
      "[2]\tvalidation_0-rmse:4336.47168\n",
      "[3]\tvalidation_0-rmse:3660.94458\n",
      "[4]\tvalidation_0-rmse:3129.15479\n",
      "[5]\tvalidation_0-rmse:2829.25537\n",
      "[6]\tvalidation_0-rmse:2710.48462\n",
      "[7]\tvalidation_0-rmse:2605.64404\n",
      "[8]\tvalidation_0-rmse:2575.05078\n",
      "[9]\tvalidation_0-rmse:2535.53784\n",
      "[10]\tvalidation_0-rmse:2515.37158\n",
      "[11]\tvalidation_0-rmse:2505.30127\n",
      "[12]\tvalidation_0-rmse:2498.79810\n",
      "[13]\tvalidation_0-rmse:2494.83154\n",
      "[14]\tvalidation_0-rmse:2492.44067\n",
      "[15]\tvalidation_0-rmse:2490.93359\n",
      "[16]\tvalidation_0-rmse:2489.98999\n",
      "[17]\tvalidation_0-rmse:2489.64356\n",
      "[18]\tvalidation_0-rmse:2488.47070\n",
      "[19]\tvalidation_0-rmse:2487.61694\n",
      "[20]\tvalidation_0-rmse:2487.23413\n",
      "[21]\tvalidation_0-rmse:2486.94653\n",
      "[22]\tvalidation_0-rmse:2486.59082\n",
      "[23]\tvalidation_0-rmse:2486.13965\n",
      "[24]\tvalidation_0-rmse:2485.85278\n",
      "[25]\tvalidation_0-rmse:2484.96558\n",
      "[26]\tvalidation_0-rmse:2484.50073\n",
      "[27]\tvalidation_0-rmse:2484.39111\n",
      "[28]\tvalidation_0-rmse:2484.06226\n",
      "[29]\tvalidation_0-rmse:2483.77368\n",
      "[30]\tvalidation_0-rmse:2482.71777\n",
      "[31]\tvalidation_0-rmse:2482.30786\n",
      "[32]\tvalidation_0-rmse:2482.32251\n",
      "[33]\tvalidation_0-rmse:2482.30322\n",
      "[34]\tvalidation_0-rmse:2481.06860\n",
      "[35]\tvalidation_0-rmse:2480.67725\n",
      "[36]\tvalidation_0-rmse:2480.67383\n",
      "[37]\tvalidation_0-rmse:2480.49951\n",
      "[38]\tvalidation_0-rmse:2480.35498\n",
      "[39]\tvalidation_0-rmse:2480.21533\n",
      "[40]\tvalidation_0-rmse:2478.90405\n",
      "[41]\tvalidation_0-rmse:2478.86035\n",
      "[42]\tvalidation_0-rmse:2478.32715\n",
      "[43]\tvalidation_0-rmse:2478.27417\n",
      "[44]\tvalidation_0-rmse:2477.85107\n",
      "[45]\tvalidation_0-rmse:2477.66040\n",
      "[46]\tvalidation_0-rmse:2475.96924\n",
      "[47]\tvalidation_0-rmse:2475.50122\n",
      "[48]\tvalidation_0-rmse:2475.32935\n",
      "[49]\tvalidation_0-rmse:2475.00757\n",
      "[50]\tvalidation_0-rmse:2474.48657\n",
      "[51]\tvalidation_0-rmse:2473.62451\n",
      "[52]\tvalidation_0-rmse:2473.89233\n",
      "[53]\tvalidation_0-rmse:2473.74829\n",
      "[54]\tvalidation_0-rmse:2473.69556\n",
      "[55]\tvalidation_0-rmse:2473.63086\n",
      "[56]\tvalidation_0-rmse:2473.32690\n",
      "[57]\tvalidation_0-rmse:2473.09033\n",
      "[58]\tvalidation_0-rmse:2472.40381\n",
      "[59]\tvalidation_0-rmse:2471.78125\n",
      "[60]\tvalidation_0-rmse:2471.81104\n",
      "[61]\tvalidation_0-rmse:2471.77173\n",
      "[62]\tvalidation_0-rmse:2471.82837\n",
      "[63]\tvalidation_0-rmse:2471.26221\n",
      "[64]\tvalidation_0-rmse:2471.72900\n",
      "[65]\tvalidation_0-rmse:2471.22681\n",
      "[66]\tvalidation_0-rmse:2471.15674\n",
      "[67]\tvalidation_0-rmse:2471.05688\n",
      "[68]\tvalidation_0-rmse:2471.04688\n",
      "[69]\tvalidation_0-rmse:2470.81934\n",
      "[70]\tvalidation_0-rmse:2470.79688\n",
      "[71]\tvalidation_0-rmse:2470.12866\n",
      "[72]\tvalidation_0-rmse:2470.25635\n",
      "[73]\tvalidation_0-rmse:2470.48389\n",
      "[74]\tvalidation_0-rmse:2470.79150\n",
      "[75]\tvalidation_0-rmse:2470.56128\n",
      "[76]\tvalidation_0-rmse:2470.11865\n",
      "[77]\tvalidation_0-rmse:2470.27563\n",
      "[78]\tvalidation_0-rmse:2470.14893\n",
      "[79]\tvalidation_0-rmse:2470.08032\n",
      "[80]\tvalidation_0-rmse:2469.94727\n",
      "[81]\tvalidation_0-rmse:2470.11377\n",
      "[82]\tvalidation_0-rmse:2470.22998\n",
      "[83]\tvalidation_0-rmse:2469.45483\n",
      "[84]\tvalidation_0-rmse:2468.93164\n",
      "[85]\tvalidation_0-rmse:2468.85938\n",
      "[86]\tvalidation_0-rmse:2468.79126\n",
      "[87]\tvalidation_0-rmse:2468.48364\n",
      "[88]\tvalidation_0-rmse:2468.16235\n",
      "[89]\tvalidation_0-rmse:2468.26660\n",
      "[90]\tvalidation_0-rmse:2467.88965\n",
      "[91]\tvalidation_0-rmse:2467.90063\n",
      "[92]\tvalidation_0-rmse:2467.73999\n",
      "[93]\tvalidation_0-rmse:2467.89209\n",
      "[94]\tvalidation_0-rmse:2467.62085\n",
      "[95]\tvalidation_0-rmse:2467.89697\n",
      "[96]\tvalidation_0-rmse:2467.67139\n",
      "[97]\tvalidation_0-rmse:2467.36523\n",
      "[98]\tvalidation_0-rmse:2467.25781\n",
      "[99]\tvalidation_0-rmse:2466.98340\n",
      "[100]\tvalidation_0-rmse:2466.95581\n",
      "[101]\tvalidation_0-rmse:2467.01294\n",
      "[102]\tvalidation_0-rmse:2467.02515\n",
      "[103]\tvalidation_0-rmse:2467.41797\n",
      "[104]\tvalidation_0-rmse:2467.88159\n",
      "[105]\tvalidation_0-rmse:2468.04370\n",
      "[106]\tvalidation_0-rmse:2468.62524\n",
      "[107]\tvalidation_0-rmse:2468.74390\n",
      "[108]\tvalidation_0-rmse:2468.82959\n",
      "[109]\tvalidation_0-rmse:2468.98926\n",
      "[110]\tvalidation_0-rmse:2468.64624\n",
      "Stopping. Best iteration:\n",
      "[100]\tvalidation_0-rmse:2466.95581\n",
      "\n"
     ]
    },
    {
     "data": {
      "text/plain": [
       "XGBRegressor(base_score=0.5, booster='dart', colsample_bylevel=1,\n",
       "             colsample_bynode=0.8, colsample_bytree=0.8, gamma=0, gpu_id=-1,\n",
       "             importance_type='gain', interaction_constraints='',\n",
       "             learning_rate=0.300000012, max_delta_step=0, max_depth=10,\n",
       "             min_child_weight=40, missing=nan, monotone_constraints='()',\n",
       "             n_estimators=1000, n_jobs=0, num_parallel_tree=1, random_state=0,\n",
       "             reg_alpha=0, reg_lambda=0.0001, scale_pos_weight=1, seed=0,\n",
       "             subsample=0.8, tree_method='exact', validate_parameters=1,\n",
       "             verbosity=None)"
      ]
     },
     "execution_count": 162,
     "metadata": {},
     "output_type": "execute_result"
    }
   ],
   "source": [
    "xgb_reg = XGBRegressor(n_estimators=1000,max_depth=10,booster='dart',\n",
    "                       colsample_bytree=0.8,colsample_bynode=0.8,subsample=0.8,reg_lambda =1e-4,min_child_weight=40, seed=0,)\n",
    "\n",
    "xgb_reg.fit(train[features], train['Purchase'], eval_set=[ (validation[features], validation['Purchase'])],\n",
    "        eval_metric='rmse',early_stopping_rounds=10,\n",
    "        verbose=True)"
   ]
  },
  {
   "cell_type": "code",
   "execution_count": 177,
   "metadata": {},
   "outputs": [
    {
     "data": {
      "text/plain": [
       "{'mean_prod_purchase': 1466012828.707041,\n",
       " 'Age_18-25': 33792727.35155354,\n",
       " 'City_Category_C': 36907087.33786599,\n",
       " 'Gender_M': 58845158.27376142,\n",
       " 'Stay_In_Current_City_Years_1': 24790277.82850705,\n",
       " 'Age_26-35': 27493405.026576973,\n",
       " 'mean_user_purchase': 127758763.84763049,\n",
       " 'Occupation_0': 30511459.523436293,\n",
       " 'Age_36-45': 28036208.26723333,\n",
       " 'Stay_In_Current_City_Years_4+': 30157777.600400656,\n",
       " 'Age_0-17': 35016336.6845,\n",
       " 'Occupation_1': 39170218.85245901,\n",
       " 'City_Category_A': 27637628.412257567,\n",
       " 'Occupation_3': 36829357.837504,\n",
       " 'Stay_In_Current_City_Years_2': 26240941.151524745,\n",
       " 'City_Category_B': 25294832.064240802,\n",
       " 'Occupation_10': 34294383.22131147,\n",
       " 'Stay_In_Current_City_Years_0': 31393372.035795253,\n",
       " 'Occupation_4': 36816983.17577771,\n",
       " 'Marital_Status': 22665042.828725,\n",
       " 'Occupation_12': 31271205.343195267,\n",
       " 'Occupation_14': 42002756.50590551,\n",
       " 'Occupation_16': 31366658.083333332,\n",
       " 'Occupation_7': 29180723.41815,\n",
       " 'Occupation_17': 30385541.710275,\n",
       " 'Occupation_15': 40164222.05182927,\n",
       " 'Gender_F': 31742371.97085274,\n",
       " 'Occupation_2': 34200534.04545455,\n",
       " 'Age_51-55': 29480869.36159091,\n",
       " 'Occupation_20': 42514236.47695625,\n",
       " 'Stay_In_Current_City_Years_3': 31152017.232090645,\n",
       " 'Age_55+': 31731678.58145714,\n",
       " 'Occupation_13': 28091127.61637931,\n",
       " 'Occupation_9': 47607525.13235294,\n",
       " 'Occupation_5': 40295548.016393445,\n",
       " 'Occupation_19': 38044029.85393258,\n",
       " 'Age_46-50': 28188546.522851165,\n",
       " 'Occupation_18': 29198106.681818184,\n",
       " 'Occupation_11': 34617575.03,\n",
       " 'Occupation_6': 40120423.67984615,\n",
       " 'Occupation_8': 20839409.38857143}"
      ]
     },
     "execution_count": 177,
     "metadata": {},
     "output_type": "execute_result"
    }
   ],
   "source": [
    "xgb_reg.get_booster().get_score(importance_type='gain')"
   ]
  },
  {
   "cell_type": "code",
   "execution_count": 167,
   "metadata": {},
   "outputs": [
    {
     "data": {
      "text/html": [
       "<div>\n",
       "<style scoped>\n",
       "    .dataframe tbody tr th:only-of-type {\n",
       "        vertical-align: middle;\n",
       "    }\n",
       "\n",
       "    .dataframe tbody tr th {\n",
       "        vertical-align: top;\n",
       "    }\n",
       "\n",
       "    .dataframe thead th {\n",
       "        text-align: right;\n",
       "    }\n",
       "</style>\n",
       "<table border=\"1\" class=\"dataframe\">\n",
       "  <thead>\n",
       "    <tr style=\"text-align: right;\">\n",
       "      <th></th>\n",
       "      <th>User_ID</th>\n",
       "      <th>Product_ID</th>\n",
       "      <th>Gender</th>\n",
       "      <th>Age</th>\n",
       "      <th>Occupation</th>\n",
       "      <th>City_Category</th>\n",
       "      <th>Stay_In_Current_City_Years</th>\n",
       "      <th>Marital_Status</th>\n",
       "      <th>Product_Category_1</th>\n",
       "      <th>Product_Category_2</th>\n",
       "      <th>Product_Category_3</th>\n",
       "      <th>mean_prod_purchase</th>\n",
       "      <th>mean_user_purchase</th>\n",
       "    </tr>\n",
       "  </thead>\n",
       "  <tbody>\n",
       "    <tr>\n",
       "      <th>0</th>\n",
       "      <td>1000004</td>\n",
       "      <td>P00128942</td>\n",
       "      <td>M</td>\n",
       "      <td>46-50</td>\n",
       "      <td>7</td>\n",
       "      <td>B</td>\n",
       "      <td>2</td>\n",
       "      <td>1</td>\n",
       "      <td>1</td>\n",
       "      <td>11.0</td>\n",
       "      <td>0.0</td>\n",
       "      <td>15781.118590</td>\n",
       "      <td>14747.714286</td>\n",
       "    </tr>\n",
       "    <tr>\n",
       "      <th>1</th>\n",
       "      <td>1001666</td>\n",
       "      <td>P00128942</td>\n",
       "      <td>M</td>\n",
       "      <td>26-35</td>\n",
       "      <td>14</td>\n",
       "      <td>B</td>\n",
       "      <td>3</td>\n",
       "      <td>0</td>\n",
       "      <td>1</td>\n",
       "      <td>11.0</td>\n",
       "      <td>0.0</td>\n",
       "      <td>15781.118590</td>\n",
       "      <td>9060.273543</td>\n",
       "    </tr>\n",
       "    <tr>\n",
       "      <th>2</th>\n",
       "      <td>1001666</td>\n",
       "      <td>P00265242</td>\n",
       "      <td>M</td>\n",
       "      <td>26-35</td>\n",
       "      <td>14</td>\n",
       "      <td>B</td>\n",
       "      <td>3</td>\n",
       "      <td>0</td>\n",
       "      <td>5</td>\n",
       "      <td>8.0</td>\n",
       "      <td>0.0</td>\n",
       "      <td>7534.848404</td>\n",
       "      <td>9060.273543</td>\n",
       "    </tr>\n",
       "    <tr>\n",
       "      <th>3</th>\n",
       "      <td>1001666</td>\n",
       "      <td>P00346442</td>\n",
       "      <td>M</td>\n",
       "      <td>26-35</td>\n",
       "      <td>14</td>\n",
       "      <td>B</td>\n",
       "      <td>3</td>\n",
       "      <td>0</td>\n",
       "      <td>1</td>\n",
       "      <td>2.0</td>\n",
       "      <td>14.0</td>\n",
       "      <td>10203.065327</td>\n",
       "      <td>9060.273543</td>\n",
       "    </tr>\n",
       "    <tr>\n",
       "      <th>4</th>\n",
       "      <td>1001666</td>\n",
       "      <td>P00260242</td>\n",
       "      <td>M</td>\n",
       "      <td>26-35</td>\n",
       "      <td>14</td>\n",
       "      <td>B</td>\n",
       "      <td>3</td>\n",
       "      <td>0</td>\n",
       "      <td>5</td>\n",
       "      <td>16.0</td>\n",
       "      <td>0.0</td>\n",
       "      <td>4716.666667</td>\n",
       "      <td>9060.273543</td>\n",
       "    </tr>\n",
       "    <tr>\n",
       "      <th>...</th>\n",
       "      <td>...</td>\n",
       "      <td>...</td>\n",
       "      <td>...</td>\n",
       "      <td>...</td>\n",
       "      <td>...</td>\n",
       "      <td>...</td>\n",
       "      <td>...</td>\n",
       "      <td>...</td>\n",
       "      <td>...</td>\n",
       "      <td>...</td>\n",
       "      <td>...</td>\n",
       "      <td>...</td>\n",
       "      <td>...</td>\n",
       "    </tr>\n",
       "    <tr>\n",
       "      <th>233533</th>\n",
       "      <td>1001936</td>\n",
       "      <td>P00013942</td>\n",
       "      <td>M</td>\n",
       "      <td>36-45</td>\n",
       "      <td>0</td>\n",
       "      <td>C</td>\n",
       "      <td>1</td>\n",
       "      <td>0</td>\n",
       "      <td>5</td>\n",
       "      <td>0.0</td>\n",
       "      <td>0.0</td>\n",
       "      <td>6017.487288</td>\n",
       "      <td>8315.052632</td>\n",
       "    </tr>\n",
       "    <tr>\n",
       "      <th>233534</th>\n",
       "      <td>1001936</td>\n",
       "      <td>P00242342</td>\n",
       "      <td>M</td>\n",
       "      <td>36-45</td>\n",
       "      <td>0</td>\n",
       "      <td>C</td>\n",
       "      <td>1</td>\n",
       "      <td>0</td>\n",
       "      <td>8</td>\n",
       "      <td>0.0</td>\n",
       "      <td>0.0</td>\n",
       "      <td>8004.653061</td>\n",
       "      <td>8315.052632</td>\n",
       "    </tr>\n",
       "    <tr>\n",
       "      <th>233535</th>\n",
       "      <td>1001936</td>\n",
       "      <td>P00009542</td>\n",
       "      <td>M</td>\n",
       "      <td>36-45</td>\n",
       "      <td>0</td>\n",
       "      <td>C</td>\n",
       "      <td>1</td>\n",
       "      <td>0</td>\n",
       "      <td>8</td>\n",
       "      <td>0.0</td>\n",
       "      <td>0.0</td>\n",
       "      <td>7320.035714</td>\n",
       "      <td>8315.052632</td>\n",
       "    </tr>\n",
       "    <tr>\n",
       "      <th>233536</th>\n",
       "      <td>1004943</td>\n",
       "      <td>P00105642</td>\n",
       "      <td>F</td>\n",
       "      <td>51-55</td>\n",
       "      <td>0</td>\n",
       "      <td>C</td>\n",
       "      <td>1</td>\n",
       "      <td>0</td>\n",
       "      <td>8</td>\n",
       "      <td>0.0</td>\n",
       "      <td>0.0</td>\n",
       "      <td>8542.080000</td>\n",
       "      <td>7998.615385</td>\n",
       "    </tr>\n",
       "    <tr>\n",
       "      <th>233537</th>\n",
       "      <td>1006034</td>\n",
       "      <td>P00291542</td>\n",
       "      <td>M</td>\n",
       "      <td>26-35</td>\n",
       "      <td>14</td>\n",
       "      <td>A</td>\n",
       "      <td>3</td>\n",
       "      <td>0</td>\n",
       "      <td>5</td>\n",
       "      <td>0.0</td>\n",
       "      <td>0.0</td>\n",
       "      <td>4276.041667</td>\n",
       "      <td>16423.833333</td>\n",
       "    </tr>\n",
       "  </tbody>\n",
       "</table>\n",
       "<p>233538 rows × 13 columns</p>\n",
       "</div>"
      ],
      "text/plain": [
       "        User_ID Product_ID Gender    Age Occupation City_Category  \\\n",
       "0       1000004  P00128942      M  46-50          7             B   \n",
       "1       1001666  P00128942      M  26-35         14             B   \n",
       "2       1001666  P00265242      M  26-35         14             B   \n",
       "3       1001666  P00346442      M  26-35         14             B   \n",
       "4       1001666  P00260242      M  26-35         14             B   \n",
       "...         ...        ...    ...    ...        ...           ...   \n",
       "233533  1001936  P00013942      M  36-45          0             C   \n",
       "233534  1001936  P00242342      M  36-45          0             C   \n",
       "233535  1001936  P00009542      M  36-45          0             C   \n",
       "233536  1004943  P00105642      F  51-55          0             C   \n",
       "233537  1006034  P00291542      M  26-35         14             A   \n",
       "\n",
       "       Stay_In_Current_City_Years  Marital_Status  Product_Category_1  \\\n",
       "0                               2               1                   1   \n",
       "1                               3               0                   1   \n",
       "2                               3               0                   5   \n",
       "3                               3               0                   1   \n",
       "4                               3               0                   5   \n",
       "...                           ...             ...                 ...   \n",
       "233533                          1               0                   5   \n",
       "233534                          1               0                   8   \n",
       "233535                          1               0                   8   \n",
       "233536                          1               0                   8   \n",
       "233537                          3               0                   5   \n",
       "\n",
       "        Product_Category_2  Product_Category_3  mean_prod_purchase  \\\n",
       "0                     11.0                 0.0        15781.118590   \n",
       "1                     11.0                 0.0        15781.118590   \n",
       "2                      8.0                 0.0         7534.848404   \n",
       "3                      2.0                14.0        10203.065327   \n",
       "4                     16.0                 0.0         4716.666667   \n",
       "...                    ...                 ...                 ...   \n",
       "233533                 0.0                 0.0         6017.487288   \n",
       "233534                 0.0                 0.0         8004.653061   \n",
       "233535                 0.0                 0.0         7320.035714   \n",
       "233536                 0.0                 0.0         8542.080000   \n",
       "233537                 0.0                 0.0         4276.041667   \n",
       "\n",
       "        mean_user_purchase  \n",
       "0             14747.714286  \n",
       "1              9060.273543  \n",
       "2              9060.273543  \n",
       "3              9060.273543  \n",
       "4              9060.273543  \n",
       "...                    ...  \n",
       "233533         8315.052632  \n",
       "233534         8315.052632  \n",
       "233535         8315.052632  \n",
       "233536         7998.615385  \n",
       "233537        16423.833333  \n",
       "\n",
       "[233538 rows x 13 columns]"
      ]
     },
     "execution_count": 167,
     "metadata": {},
     "output_type": "execute_result"
    }
   ],
   "source": [
    "test_data"
   ]
  },
  {
   "cell_type": "code",
   "execution_count": 168,
   "metadata": {},
   "outputs": [],
   "source": [
    "pred=xgb_reg.predict(test)"
   ]
  },
  {
   "cell_type": "code",
   "execution_count": 169,
   "metadata": {},
   "outputs": [],
   "source": [
    "test_data['Purchase']=pred"
   ]
  },
  {
   "cell_type": "code",
   "execution_count": 170,
   "metadata": {},
   "outputs": [],
   "source": [
    "test_data[['Purchase','User_ID','Product_ID']].to_csv(\"xgb.csv\",index=False)"
   ]
  }
 ],
 "metadata": {
  "kernelspec": {
   "display_name": "Python 3",
   "language": "python",
   "name": "python3"
  },
  "language_info": {
   "codemirror_mode": {
    "name": "ipython",
    "version": 3
   },
   "file_extension": ".py",
   "mimetype": "text/x-python",
   "name": "python",
   "nbconvert_exporter": "python",
   "pygments_lexer": "ipython3",
   "version": "3.6.8"
  }
 },
 "nbformat": 4,
 "nbformat_minor": 4
}
